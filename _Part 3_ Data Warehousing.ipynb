{
 "cells": [
  {
   "cell_type": "markdown",
   "id": "ab6b009f",
   "metadata": {},
   "source": [
    "<font size=\"6\"> Data Engineering Project — Retail Store Part 3 — Data Warehousing </font>"
   ]
  },
  {
   "cell_type": "markdown",
   "id": "34358500",
   "metadata": {},
   "source": [
    "<font size=\"5\"> Step 1 — Design the Data Warehouse — In Practice</font>"
   ]
  },
  {
   "cell_type": "markdown",
   "id": "6753d61a",
   "metadata": {},
   "source": [
    "<font size=\"4\"> Connecting Python to MySQL</font>"
   ]
  },
  {
   "cell_type": "code",
   "execution_count": 7,
   "id": "e83f8da3",
   "metadata": {},
   "outputs": [],
   "source": [
    "import numpy as np\n",
    "import pandas as pd\n",
    "import names\n",
    "from faker import Faker\n",
    "faker = Faker()\n",
    "import pandasql as ps\n",
    "import random\n",
    "import time\n",
    "from datetime import datetime\n",
    "from datetime import date"
   ]
  },
  {
   "cell_type": "code",
   "execution_count": 8,
   "id": "ff30cd65",
   "metadata": {},
   "outputs": [],
   "source": [
    "connection = pymysql.connect(host ='localhost',port=int(3306),user='root',passwd='Qwerty1234/',db='dwh_whiskey')\n",
    "\n",
    "# Creating a Cursor object\n",
    "cursor = connection.cursor()"
   ]
  },
  {
   "cell_type": "markdown",
   "id": "07fa762e",
   "metadata": {},
   "source": [
    "<font size=\"4\"> Generating daily dates and creating a DataFrame</font>"
   ]
  },
  {
   "cell_type": "code",
   "execution_count": 9,
   "id": "70a90924",
   "metadata": {},
   "outputs": [],
   "source": [
    "start_date =date(1990,1,1)\n",
    "end_date = date(2100,1,1)\n",
    "\n",
    "# Get all the dates from 1990-01-01 to 2100-01-01\n",
    "dates = pd.date_range(start=start_date, end=end_date)\n",
    "\n",
    "dates_df = pd.DataFrame(dates, columns=['Date'])\n",
    "\n",
    "# Insert into a dataframe"
   ]
  },
  {
   "cell_type": "markdown",
   "id": "2e8983d7",
   "metadata": {},
   "source": [
    "   <font size=\"4\">Generating the date table </font>  "
   ]
  },
  {
   "cell_type": "code",
   "execution_count": 10,
   "id": "2122de2b",
   "metadata": {},
   "outputs": [],
   "source": [
    "dates_df['Date_key'] =np.random.default_rng().choice(range(1,len(dates_df['Date'])+1), len(dates_df['Date']), replace = False)\n",
    "\n",
    "# Day_name Column\n",
    "dates_df['Day_name'] = dates.day_name()\n",
    "\n",
    "# Month Column\n",
    "month_dict = {1:'Jan',2:'Feb',3:'Mar',4:'Apr',\n",
    "             5:'May',6:'Jun',7:'Jul',8:'Aug',9:'Sep',10:'Oct',\n",
    "             11:'Nov',12:'Dec'}\n",
    "dates_df['Month'] = dates_df.Date.dt.month\n",
    "dates_df.Month.replace(month_dict,inplace=True)\n",
    "\n",
    "# Year Column\n",
    "dates_df['Year'] = dates_df.Date.dt.year\n",
    "\n",
    "# Confirm that the Date_key column is unique\n",
    "assert len(dates_df.Date_key.unique()) == len(dates_df.Date)"
   ]
  },
  {
   "cell_type": "code",
   "execution_count": 11,
   "id": "ce2fe028",
   "metadata": {},
   "outputs": [
    {
     "data": {
      "text/html": [
       "<div>\n",
       "<style scoped>\n",
       "    .dataframe tbody tr th:only-of-type {\n",
       "        vertical-align: middle;\n",
       "    }\n",
       "\n",
       "    .dataframe tbody tr th {\n",
       "        vertical-align: top;\n",
       "    }\n",
       "\n",
       "    .dataframe thead th {\n",
       "        text-align: right;\n",
       "    }\n",
       "</style>\n",
       "<table border=\"1\" class=\"dataframe\">\n",
       "  <thead>\n",
       "    <tr style=\"text-align: right;\">\n",
       "      <th></th>\n",
       "      <th>Date</th>\n",
       "      <th>Date_key</th>\n",
       "      <th>Day_name</th>\n",
       "      <th>Month</th>\n",
       "      <th>Year</th>\n",
       "    </tr>\n",
       "  </thead>\n",
       "  <tbody>\n",
       "    <tr>\n",
       "      <th>0</th>\n",
       "      <td>1990-01-01</td>\n",
       "      <td>36222</td>\n",
       "      <td>Monday</td>\n",
       "      <td>Jan</td>\n",
       "      <td>1990</td>\n",
       "    </tr>\n",
       "    <tr>\n",
       "      <th>1</th>\n",
       "      <td>1990-01-02</td>\n",
       "      <td>20989</td>\n",
       "      <td>Tuesday</td>\n",
       "      <td>Jan</td>\n",
       "      <td>1990</td>\n",
       "    </tr>\n",
       "    <tr>\n",
       "      <th>2</th>\n",
       "      <td>1990-01-03</td>\n",
       "      <td>37243</td>\n",
       "      <td>Wednesday</td>\n",
       "      <td>Jan</td>\n",
       "      <td>1990</td>\n",
       "    </tr>\n",
       "    <tr>\n",
       "      <th>3</th>\n",
       "      <td>1990-01-04</td>\n",
       "      <td>19636</td>\n",
       "      <td>Thursday</td>\n",
       "      <td>Jan</td>\n",
       "      <td>1990</td>\n",
       "    </tr>\n",
       "    <tr>\n",
       "      <th>4</th>\n",
       "      <td>1990-01-05</td>\n",
       "      <td>37520</td>\n",
       "      <td>Friday</td>\n",
       "      <td>Jan</td>\n",
       "      <td>1990</td>\n",
       "    </tr>\n",
       "    <tr>\n",
       "      <th>...</th>\n",
       "      <td>...</td>\n",
       "      <td>...</td>\n",
       "      <td>...</td>\n",
       "      <td>...</td>\n",
       "      <td>...</td>\n",
       "    </tr>\n",
       "    <tr>\n",
       "      <th>40173</th>\n",
       "      <td>2099-12-28</td>\n",
       "      <td>37509</td>\n",
       "      <td>Monday</td>\n",
       "      <td>Dec</td>\n",
       "      <td>2099</td>\n",
       "    </tr>\n",
       "    <tr>\n",
       "      <th>40174</th>\n",
       "      <td>2099-12-29</td>\n",
       "      <td>24331</td>\n",
       "      <td>Tuesday</td>\n",
       "      <td>Dec</td>\n",
       "      <td>2099</td>\n",
       "    </tr>\n",
       "    <tr>\n",
       "      <th>40175</th>\n",
       "      <td>2099-12-30</td>\n",
       "      <td>21465</td>\n",
       "      <td>Wednesday</td>\n",
       "      <td>Dec</td>\n",
       "      <td>2099</td>\n",
       "    </tr>\n",
       "    <tr>\n",
       "      <th>40176</th>\n",
       "      <td>2099-12-31</td>\n",
       "      <td>26436</td>\n",
       "      <td>Thursday</td>\n",
       "      <td>Dec</td>\n",
       "      <td>2099</td>\n",
       "    </tr>\n",
       "    <tr>\n",
       "      <th>40177</th>\n",
       "      <td>2100-01-01</td>\n",
       "      <td>39506</td>\n",
       "      <td>Friday</td>\n",
       "      <td>Jan</td>\n",
       "      <td>2100</td>\n",
       "    </tr>\n",
       "  </tbody>\n",
       "</table>\n",
       "<p>40178 rows × 5 columns</p>\n",
       "</div>"
      ],
      "text/plain": [
       "            Date  Date_key   Day_name Month  Year\n",
       "0     1990-01-01     36222     Monday   Jan  1990\n",
       "1     1990-01-02     20989    Tuesday   Jan  1990\n",
       "2     1990-01-03     37243  Wednesday   Jan  1990\n",
       "3     1990-01-04     19636   Thursday   Jan  1990\n",
       "4     1990-01-05     37520     Friday   Jan  1990\n",
       "...          ...       ...        ...   ...   ...\n",
       "40173 2099-12-28     37509     Monday   Dec  2099\n",
       "40174 2099-12-29     24331    Tuesday   Dec  2099\n",
       "40175 2099-12-30     21465  Wednesday   Dec  2099\n",
       "40176 2099-12-31     26436   Thursday   Dec  2099\n",
       "40177 2100-01-01     39506     Friday   Jan  2100\n",
       "\n",
       "[40178 rows x 5 columns]"
      ]
     },
     "execution_count": 11,
     "metadata": {},
     "output_type": "execute_result"
    }
   ],
   "source": [
    "dates_df"
   ]
  },
  {
   "cell_type": "markdown",
   "id": "b67fa236",
   "metadata": {},
   "source": [
    "   <font size=\"4\">Loading the Date Dimension to MySQL </font>"
   ]
  },
  {
   "cell_type": "code",
   "execution_count": 12,
   "id": "eaad68b9",
   "metadata": {},
   "outputs": [
    {
     "data": {
      "text/plain": [
       "0"
      ]
     },
     "execution_count": 12,
     "metadata": {},
     "output_type": "execute_result"
    }
   ],
   "source": [
    "query = \"CREATE TABLE dwh_date2 (Dates DATE NOT NULL,Date_key INT NOT NULL PRIMARY KEY,Day_name VARCHAR(50) NOT NULL,Month_name VARCHAR(50) NOT NULL,Year_name VARCHAR(50) NOT NULL);\"\n",
    "\n",
    "cursor.execute(query)"
   ]
  },
  {
   "cell_type": "code",
   "execution_count": 13,
   "id": "3c85435c",
   "metadata": {},
   "outputs": [],
   "source": [
    "records = dates_df.to_records(index=False)\n",
    "\n",
    "# Convert the list of arrays into a tuple of tuples\n",
    "result = tuple(records)\n",
    "\n",
    "\n",
    "for data in range(0,len(result)):\n",
    "    \n",
    "    # Create a new record\n",
    "    query = \"insert into dwh_date2 (Dates,Date_key, Day_name, Month_name, Year_name) values {}\".format(result[data])\n",
    "    \n",
    "    \n",
    "    # Execute the query\n",
    "    cursor.execute(query)\n",
    "    \n",
    "    \n",
    "# Commit the transaction\n",
    "connection.commit()"
   ]
  },
  {
   "cell_type": "code",
   "execution_count": null,
   "id": "df585478",
   "metadata": {},
   "outputs": [],
   "source": []
  }
 ],
 "metadata": {
  "kernelspec": {
   "display_name": "Python [conda env:env_etl]",
   "language": "python",
   "name": "conda-env-env_etl-py"
  },
  "language_info": {
   "codemirror_mode": {
    "name": "ipython",
    "version": 3
   },
   "file_extension": ".py",
   "mimetype": "text/x-python",
   "name": "python",
   "nbconvert_exporter": "python",
   "pygments_lexer": "ipython3",
   "version": "3.6.13"
  }
 },
 "nbformat": 4,
 "nbformat_minor": 5
}
